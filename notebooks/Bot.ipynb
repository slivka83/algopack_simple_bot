{
 "cells": [
  {
   "cell_type": "markdown",
   "id": "3a450439",
   "metadata": {},
   "source": [
    "# Импорт библиотек"
   ]
  },
  {
   "cell_type": "code",
   "execution_count": 4,
   "id": "de199ff3",
   "metadata": {
    "ExecuteTime": {
     "end_time": "2023-12-03T21:11:50.793577Z",
     "start_time": "2023-12-03T21:11:50.700289Z"
    }
   },
   "outputs": [],
   "source": [
    "import lightgbm as lgb\n",
    "from moexalgo import Market, Ticker"
   ]
  },
  {
   "cell_type": "markdown",
   "id": "45a990ab",
   "metadata": {},
   "source": [
    "# Загрузка модели"
   ]
  },
  {
   "cell_type": "code",
   "execution_count": 3,
   "id": "f99b57ef",
   "metadata": {
    "ExecuteTime": {
     "end_time": "2023-12-03T21:08:39.977276Z",
     "start_time": "2023-12-03T21:08:39.957780Z"
    }
   },
   "outputs": [],
   "source": [
    "model = lgb.Booster(model_file='../models/model.lgb')"
   ]
  },
  {
   "cell_type": "markdown",
   "id": "1d3c1519",
   "metadata": {},
   "source": [
    "# Загрузка данных"
   ]
  },
  {
   "cell_type": "code",
   "execution_count": 12,
   "id": "a7a9f390",
   "metadata": {
    "ExecuteTime": {
     "end_time": "2023-12-03T21:45:32.615773Z",
     "start_time": "2023-12-03T21:45:32.077265Z"
    }
   },
   "outputs": [
    {
     "data": {
      "text/html": [
       "<div>\n",
       "<style scoped>\n",
       "    .dataframe tbody tr th:only-of-type {\n",
       "        vertical-align: middle;\n",
       "    }\n",
       "\n",
       "    .dataframe tbody tr th {\n",
       "        vertical-align: top;\n",
       "    }\n",
       "\n",
       "    .dataframe thead th {\n",
       "        text-align: right;\n",
       "    }\n",
       "</style>\n",
       "<table border=\"1\" class=\"dataframe\">\n",
       "  <thead>\n",
       "    <tr style=\"text-align: right;\">\n",
       "      <th></th>\n",
       "      <th>ticker</th>\n",
       "      <th>tradedate</th>\n",
       "      <th>tradetime</th>\n",
       "      <th>pr_open</th>\n",
       "      <th>pr_high</th>\n",
       "      <th>pr_low</th>\n",
       "      <th>pr_close</th>\n",
       "      <th>pr_std</th>\n",
       "      <th>vol</th>\n",
       "      <th>val</th>\n",
       "      <th>...</th>\n",
       "      <th>trades_b</th>\n",
       "      <th>trades_s</th>\n",
       "      <th>val_b</th>\n",
       "      <th>val_s</th>\n",
       "      <th>vol_b</th>\n",
       "      <th>vol_s</th>\n",
       "      <th>disb</th>\n",
       "      <th>pr_vwap_b</th>\n",
       "      <th>pr_vwap_s</th>\n",
       "      <th>systime</th>\n",
       "    </tr>\n",
       "  </thead>\n",
       "  <tbody>\n",
       "    <tr>\n",
       "      <th>0</th>\n",
       "      <td>SBER</td>\n",
       "      <td>2023-12-01</td>\n",
       "      <td>18:40:00</td>\n",
       "      <td>274.95</td>\n",
       "      <td>275.56</td>\n",
       "      <td>274.88</td>\n",
       "      <td>275.01</td>\n",
       "      <td>0.0002</td>\n",
       "      <td>38315</td>\n",
       "      <td>105437992.0</td>\n",
       "      <td>...</td>\n",
       "      <td>361</td>\n",
       "      <td>360</td>\n",
       "      <td>52579247.0</td>\n",
       "      <td>52858744.0</td>\n",
       "      <td>19109</td>\n",
       "      <td>19206</td>\n",
       "      <td>0.0</td>\n",
       "      <td>275.15</td>\n",
       "      <td>275.22</td>\n",
       "      <td>2023-12-01 18:40:10</td>\n",
       "    </tr>\n",
       "  </tbody>\n",
       "</table>\n",
       "<p>1 rows × 23 columns</p>\n",
       "</div>"
      ],
      "text/plain": [
       "  ticker   tradedate tradetime  pr_open  pr_high  pr_low  pr_close  pr_std  \\\n",
       "0   SBER  2023-12-01  18:40:00   274.95   275.56  274.88    275.01  0.0002   \n",
       "\n",
       "     vol          val  ...  trades_b  trades_s       val_b       val_s  vol_b  \\\n",
       "0  38315  105437992.0  ...       361       360  52579247.0  52858744.0  19109   \n",
       "\n",
       "   vol_s  disb  pr_vwap_b  pr_vwap_s             systime  \n",
       "0  19206   0.0     275.15     275.22 2023-12-01 18:40:10  \n",
       "\n",
       "[1 rows x 23 columns]"
      ]
     },
     "execution_count": 12,
     "metadata": {},
     "output_type": "execute_result"
    }
   ],
   "source": [
    "loader = Ticker('SBER')\n",
    "one_day_df = loader.tradestats(date='2023-12-01', till_date='2023-12-01', latest=True)\n",
    "one_day_df"
   ]
  },
  {
   "cell_type": "markdown",
   "id": "2ac0c2d2",
   "metadata": {},
   "source": [
    "# Препроцессинг"
   ]
  },
  {
   "cell_type": "code",
   "execution_count": null,
   "id": "d60e8797",
   "metadata": {},
   "outputs": [],
   "source": []
  },
  {
   "cell_type": "code",
   "execution_count": null,
   "id": "1b3b281e",
   "metadata": {},
   "outputs": [],
   "source": []
  },
  {
   "cell_type": "markdown",
   "id": "923e80e1",
   "metadata": {},
   "source": [
    "# Предсказание"
   ]
  },
  {
   "cell_type": "code",
   "execution_count": null,
   "id": "4d54f4e8",
   "metadata": {},
   "outputs": [],
   "source": []
  },
  {
   "cell_type": "code",
   "execution_count": null,
   "id": "68b3948b",
   "metadata": {},
   "outputs": [],
   "source": []
  },
  {
   "cell_type": "code",
   "execution_count": null,
   "id": "5843c1bf",
   "metadata": {},
   "outputs": [],
   "source": []
  },
  {
   "cell_type": "code",
   "execution_count": null,
   "id": "71f16a6e",
   "metadata": {},
   "outputs": [],
   "source": []
  },
  {
   "cell_type": "code",
   "execution_count": null,
   "id": "9ac76612",
   "metadata": {},
   "outputs": [],
   "source": []
  },
  {
   "cell_type": "code",
   "execution_count": null,
   "id": "435603da",
   "metadata": {},
   "outputs": [],
   "source": []
  }
 ],
 "metadata": {
  "kernelspec": {
   "display_name": "Python 3 (ipykernel)",
   "language": "python",
   "name": "python3"
  },
  "language_info": {
   "codemirror_mode": {
    "name": "ipython",
    "version": 3
   },
   "file_extension": ".py",
   "mimetype": "text/x-python",
   "name": "python",
   "nbconvert_exporter": "python",
   "pygments_lexer": "ipython3",
   "version": "3.11.5"
  },
  "toc": {
   "base_numbering": 1,
   "nav_menu": {},
   "number_sections": true,
   "sideBar": true,
   "skip_h1_title": false,
   "title_cell": "Table of Contents",
   "title_sidebar": "Contents",
   "toc_cell": false,
   "toc_position": {
    "height": "calc(100% - 180px)",
    "left": "10px",
    "top": "150px",
    "width": "285.6px"
   },
   "toc_section_display": true,
   "toc_window_display": true
  }
 },
 "nbformat": 4,
 "nbformat_minor": 5
}
